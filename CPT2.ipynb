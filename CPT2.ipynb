{
  "nbformat": 4,
  "nbformat_minor": 0,
  "metadata": {
    "colab": {
      "provenance": [],
      "authorship_tag": "ABX9TyPHOuVnpKkKY/OAd7YS673q",
      "include_colab_link": true
    },
    "kernelspec": {
      "name": "python3",
      "display_name": "Python 3"
    },
    "language_info": {
      "name": "python"
    }
  },
  "cells": [
    {
      "cell_type": "markdown",
      "metadata": {
        "id": "view-in-github",
        "colab_type": "text"
      },
      "source": [
        "<a href=\"https://colab.research.google.com/github/mahithapotluri18/basic-oops-in-python/blob/main/CPT2.ipynb\" target=\"_parent\"><img src=\"https://colab.research.google.com/assets/colab-badge.svg\" alt=\"Open In Colab\"/></a>"
      ]
    },
    {
      "cell_type": "markdown",
      "source": [
        "OBJECT ORIENTED PROGRAMMMING\n"
      ],
      "metadata": {
        "id": "tqeO3wtGiv1-"
      }
    },
    {
      "cell_type": "code",
      "execution_count": null,
      "metadata": {
        "colab": {
          "base_uri": "https://localhost:8080/"
        },
        "id": "sKfri3Z8is3-",
        "outputId": "4a53f923-e789-4979-e584-bf97807d0d11"
      },
      "outputs": [
        {
          "output_type": "stream",
          "name": "stdout",
          "text": [
            "German shepard\n",
            "Austria\n"
          ]
        }
      ],
      "source": [
        "class dog:\n",
        "  def features(self):\n",
        "    print(\"German shepard\")\n",
        "    print(\"Austria\")\n",
        "animal=dog()\n",
        "animal.features()"
      ]
    },
    {
      "cell_type": "code",
      "source": [
        "class person():\n",
        "  def set_name(self,name):\n",
        "    self.name=name\n",
        "  def get_name(self):\n",
        "    return self.name\n",
        "name=input(\"enter name:\")\n",
        "p=person()\n",
        "p.set_name(name)\n",
        "print(p.get_name())"
      ],
      "metadata": {
        "colab": {
          "base_uri": "https://localhost:8080/"
        },
        "id": "SZVtKDMG1Ejv",
        "outputId": "139ad260-60e4-48c2-a30a-7fc074abf047"
      },
      "execution_count": null,
      "outputs": [
        {
          "output_type": "stream",
          "name": "stdout",
          "text": [
            "enter name:HGFDS\n",
            "HGFDS\n"
          ]
        }
      ]
    },
    {
      "cell_type": "code",
      "source": [
        "class calc:\n",
        "  def add(self,a,b):\n",
        "    return a+b\n",
        "  def sub(self,h,i):\n",
        "    return h-i\n",
        "a=int(input(\"enter\"))\n",
        "b=int(input(\"enter\"))\n",
        "h=int(input(\"enter\"))\n",
        "i=int(input(\"enter\"))\n",
        "c=calc()\n",
        "c.add(a,b)\n",
        "c.sub(h,i)"
      ],
      "metadata": {
        "colab": {
          "base_uri": "https://localhost:8080/"
        },
        "id": "zAl1BaJd3stW",
        "outputId": "e91659ab-3ea4-41ae-cc9a-2a12d8b499ae"
      },
      "execution_count": null,
      "outputs": [
        {
          "name": "stdout",
          "output_type": "stream",
          "text": [
            "enter7\n",
            "enter5\n",
            "enter6\n",
            "enter9\n"
          ]
        },
        {
          "output_type": "execute_result",
          "data": {
            "text/plain": [
              "-3"
            ]
          },
          "metadata": {},
          "execution_count": 27
        }
      ]
    },
    {
      "cell_type": "code",
      "source": [
        "#calculate the area and circumference of a circle by considering a class circle and defferent area and circumference functions,which return the result to the main\n",
        "from math import pi\n",
        "class circle:\n",
        "  def area(self,r):\n",
        "    self.r=r\n",
        "    return pi*r*r\n",
        "  def circumference(self,r):\n",
        "    return 2*pi*r\n",
        "r=int(input(\"enter radius\"))\n",
        "c=circle()\n",
        "print(c.area(r))\n",
        "print(c.circumference(r))"
      ],
      "metadata": {
        "colab": {
          "base_uri": "https://localhost:8080/"
        },
        "id": "6dBG7-pP7xLW",
        "outputId": "3ec4f0f0-6f54-403c-8815-63cc10b53994"
      },
      "execution_count": null,
      "outputs": [
        {
          "output_type": "stream",
          "name": "stdout",
          "text": [
            "enter radius6\n",
            "113.09733552923255\n",
            "37.69911184307752\n"
          ]
        }
      ]
    },
    {
      "cell_type": "code",
      "source": [
        "class person:\n",
        "  def __init__(self,name,height,weight):\n",
        "    self.name=name\n",
        "    self.height=height\n",
        "    self.weight=weight\n",
        "p=person(\"mahi\",5.6,987)\n",
        "print(p.name,p.height,p.weight)"
      ],
      "metadata": {
        "colab": {
          "base_uri": "https://localhost:8080/"
        },
        "id": "omMGfVBYB571",
        "outputId": "5b1a2e88-5aa5-4ca9-fc23-419d7cfdb63e"
      },
      "execution_count": null,
      "outputs": [
        {
          "output_type": "stream",
          "name": "stdout",
          "text": [
            "mahi 5.6 987\n"
          ]
        }
      ]
    },
    {
      "cell_type": "code",
      "source": [
        "class book:\n",
        "  def __init__(self,title,author=\"uknow\",year=000):\n",
        "    self.title=title\n",
        "    self.author=author\n",
        "    self.year=year\n",
        "b1=book( \"abc\")\n",
        "b2=book(\"def\",'hygf',9876)\n",
        "print(b1.title,b1.author,b1.year)\n",
        "print(b2.title,b2.author,b2.year)"
      ],
      "metadata": {
        "colab": {
          "base_uri": "https://localhost:8080/"
        },
        "id": "pSW19OQHEqku",
        "outputId": "4f7cf9dd-8d27-47ff-fd8a-8af0742c80bc"
      },
      "execution_count": null,
      "outputs": [
        {
          "output_type": "stream",
          "name": "stdout",
          "text": [
            "abc uknow 0\n",
            "def hygf 9876\n"
          ]
        }
      ]
    },
    {
      "cell_type": "code",
      "source": [
        "#lists or collections in a class\n",
        "class shopping:\n",
        "  def __init__(self):\n",
        "    self.items=[]\n",
        "  def add_items(self,items):\n",
        "    self.items.append(items)\n",
        "cart=shopping()\n",
        "cart.add_items(\"apple\")\n",
        "cart.add_items(\"banana\")\n",
        "print(cart.items)"
      ],
      "metadata": {
        "colab": {
          "base_uri": "https://localhost:8080/"
        },
        "id": "askp0xfUMKMk",
        "outputId": "0c08c6fe-6e38-4d31-cf9a-cc5de93bb11e"
      },
      "execution_count": null,
      "outputs": [
        {
          "output_type": "stream",
          "name": "stdout",
          "text": [
            "['apple', 'banana']\n"
          ]
        }
      ]
    },
    {
      "cell_type": "code",
      "source": [
        "#class with directories\n",
        "class student:\n",
        "  def __init__(self,name):\n",
        "    self.name=name\n",
        "    self.grades={}\n",
        "  def add_grades(self,subject,grade):\n",
        "    self.grades[subject]=grade\n",
        "s=student(\"mahi\")\n",
        "s.add_grades(\"math\",98)\n",
        "s.add_grades(\"science\",99)\n",
        "print(s.name)\n",
        "print(s.grades)"
      ],
      "metadata": {
        "colab": {
          "base_uri": "https://localhost:8080/"
        },
        "id": "M7sGyL8eOYOc",
        "outputId": "ec0d3e28-be86-47cb-df65-4bd42bef1a1b"
      },
      "execution_count": null,
      "outputs": [
        {
          "output_type": "stream",
          "name": "stdout",
          "text": [
            "mahi\n",
            "{'math': 98, 'science': 99}\n"
          ]
        }
      ]
    }
  ]
}